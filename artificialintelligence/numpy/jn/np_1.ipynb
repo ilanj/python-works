{
 "cells": [
  {
   "cell_type": "code",
   "execution_count": 1,
   "metadata": {},
   "outputs": [],
   "source": [
    "import numpy as np\n",
    "arr1= np.array([1,2,3])"
   ]
  },
  {
   "cell_type": "code",
   "execution_count": 2,
   "metadata": {},
   "outputs": [
    {
     "data": {
      "text/plain": [
       "array([1, 2, 3])"
      ]
     },
     "execution_count": 2,
     "metadata": {},
     "output_type": "execute_result"
    }
   ],
   "source": [
    "arr1"
   ]
  },
  {
   "cell_type": "code",
   "execution_count": 3,
   "metadata": {},
   "outputs": [
    {
     "data": {
      "text/plain": [
       "array([[2, 0, 0, 0, 0, 0],\n",
       "       [0, 4, 0, 0, 0, 0],\n",
       "       [0, 0, 6, 0, 0, 0],\n",
       "       [0, 0, 0, 5, 0, 0],\n",
       "       [0, 0, 0, 0, 4, 0],\n",
       "       [0, 0, 0, 0, 0, 7]])"
      ]
     },
     "execution_count": 3,
     "metadata": {},
     "output_type": "execute_result"
    }
   ],
   "source": [
    "dgnl=np.diag([2,4,6,5,4,7])\n",
    "dgnl"
   ]
  },
  {
   "cell_type": "code",
   "execution_count": 5,
   "metadata": {},
   "outputs": [
    {
     "data": {
      "text/plain": [
       "array([ 0,  1,  2,  3,  4,  5,  6,  7,  8,  9, 10, 11])"
      ]
     },
     "execution_count": 5,
     "metadata": {},
     "output_type": "execute_result"
    }
   ],
   "source": [
    "np.arange(0,12)"
   ]
  },
  {
   "cell_type": "code",
   "execution_count": 7,
   "metadata": {},
   "outputs": [
    {
     "data": {
      "text/plain": [
       "array([[ 0,  1,  2],\n",
       "       [ 3,  4,  5],\n",
       "       [ 6,  7,  8],\n",
       "       [ 9, 10, 11]])"
      ]
     },
     "execution_count": 7,
     "metadata": {},
     "output_type": "execute_result"
    }
   ],
   "source": [
    "np.arange(0,12).reshape(4,3)"
   ]
  },
  {
   "cell_type": "markdown",
   "metadata": {},
   "source": [
    "# np.linspace(start, stop, range-nos, endpoint)\n",
    "## endpoint=True or False. will specify whether to include stop number\n",
    "## if no range is not specified, it will take as a 10 x 5 matrix"
   ]
  },
  {
   "cell_type": "code",
   "execution_count": 9,
   "metadata": {},
   "outputs": [
    {
     "data": {
      "text/plain": [
       "array([ 0.        ,  0.24489796,  0.48979592,  0.73469388,  0.97959184,\n",
       "        1.2244898 ,  1.46938776,  1.71428571,  1.95918367,  2.20408163,\n",
       "        2.44897959,  2.69387755,  2.93877551,  3.18367347,  3.42857143,\n",
       "        3.67346939,  3.91836735,  4.16326531,  4.40816327,  4.65306122,\n",
       "        4.89795918,  5.14285714,  5.3877551 ,  5.63265306,  5.87755102,\n",
       "        6.12244898,  6.36734694,  6.6122449 ,  6.85714286,  7.10204082,\n",
       "        7.34693878,  7.59183673,  7.83673469,  8.08163265,  8.32653061,\n",
       "        8.57142857,  8.81632653,  9.06122449,  9.30612245,  9.55102041,\n",
       "        9.79591837, 10.04081633, 10.28571429, 10.53061224, 10.7755102 ,\n",
       "       11.02040816, 11.26530612, 11.51020408, 11.75510204, 12.        ])"
      ]
     },
     "execution_count": 9,
     "metadata": {},
     "output_type": "execute_result"
    }
   ],
   "source": [
    "np.linspace(0,12)"
   ]
  },
  {
   "cell_type": "code",
   "execution_count": 12,
   "metadata": {},
   "outputs": [
    {
     "data": {
      "text/plain": [
       "array([[ 0.        ,  0.24489796,  0.48979592,  0.73469388,  0.97959184],\n",
       "       [ 1.2244898 ,  1.46938776,  1.71428571,  1.95918367,  2.20408163],\n",
       "       [ 2.44897959,  2.69387755,  2.93877551,  3.18367347,  3.42857143],\n",
       "       [ 3.67346939,  3.91836735,  4.16326531,  4.40816327,  4.65306122],\n",
       "       [ 4.89795918,  5.14285714,  5.3877551 ,  5.63265306,  5.87755102],\n",
       "       [ 6.12244898,  6.36734694,  6.6122449 ,  6.85714286,  7.10204082],\n",
       "       [ 7.34693878,  7.59183673,  7.83673469,  8.08163265,  8.32653061],\n",
       "       [ 8.57142857,  8.81632653,  9.06122449,  9.30612245,  9.55102041],\n",
       "       [ 9.79591837, 10.04081633, 10.28571429, 10.53061224, 10.7755102 ],\n",
       "       [11.02040816, 11.26530612, 11.51020408, 11.75510204, 12.        ]])"
      ]
     },
     "execution_count": 12,
     "metadata": {},
     "output_type": "execute_result"
    }
   ],
   "source": [
    "np.linspace(0,12).reshape(10,5)"
   ]
  },
  {
   "cell_type": "code",
   "execution_count": 18,
   "metadata": {},
   "outputs": [
    {
     "data": {
      "text/plain": [
       "array([0.        , 0.05128205, 0.1025641 , 0.15384615, 0.20512821,\n",
       "       0.25641026, 0.30769231, 0.35897436, 0.41025641, 0.46153846,\n",
       "       0.51282051, 0.56410256, 0.61538462, 0.66666667, 0.71794872,\n",
       "       0.76923077, 0.82051282, 0.87179487, 0.92307692, 0.97435897,\n",
       "       1.02564103, 1.07692308, 1.12820513, 1.17948718, 1.23076923,\n",
       "       1.28205128, 1.33333333, 1.38461538, 1.43589744, 1.48717949,\n",
       "       1.53846154, 1.58974359, 1.64102564, 1.69230769, 1.74358974,\n",
       "       1.79487179, 1.84615385, 1.8974359 , 1.94871795, 2.        ])"
      ]
     },
     "execution_count": 18,
     "metadata": {},
     "output_type": "execute_result"
    }
   ],
   "source": [
    "np.linspace(0,2,40)"
   ]
  },
  {
   "cell_type": "code",
   "execution_count": 33,
   "metadata": {},
   "outputs": [
    {
     "data": {
      "text/plain": [
       "array([ 2.        ,  2.6122449 ,  3.2244898 ,  3.83673469,  4.44897959,\n",
       "        5.06122449,  5.67346939,  6.28571429,  6.89795918,  7.51020408,\n",
       "        8.12244898,  8.73469388,  9.34693878,  9.95918367, 10.57142857,\n",
       "       11.18367347, 11.79591837, 12.40816327, 13.02040816, 13.63265306,\n",
       "       14.24489796, 14.85714286, 15.46938776, 16.08163265, 16.69387755,\n",
       "       17.30612245, 17.91836735, 18.53061224, 19.14285714, 19.75510204,\n",
       "       20.36734694, 20.97959184, 21.59183673, 22.20408163, 22.81632653,\n",
       "       23.42857143, 24.04081633, 24.65306122, 25.26530612, 25.87755102,\n",
       "       26.48979592, 27.10204082, 27.71428571, 28.32653061, 28.93877551,\n",
       "       29.55102041, 30.16326531, 30.7755102 , 31.3877551 , 32.        ])"
      ]
     },
     "execution_count": 33,
     "metadata": {},
     "output_type": "execute_result"
    }
   ],
   "source": [
    "np.linspace(2,32,16).reshape(4,4)"
   ]
  },
  {
   "cell_type": "code",
   "execution_count": 28,
   "metadata": {},
   "outputs": [
    {
     "data": {
      "text/plain": [
       "array([1., 1., 1., 1., 1., 1., 1., 1., 1., 1.])"
      ]
     },
     "execution_count": 28,
     "metadata": {},
     "output_type": "execute_result"
    },
    {
     "data": {
      "image/png": "[encoded data removed]",
      "text/plain": [
       "<Figure size 432x288 with 1 Axes>"
      ]
     },
     "metadata": {
      "needs_background": "light"
     },
     "output_type": "display_data"
    }
   ],
   "source": [
    "import pylab as p\n",
    "x1 = np.linspace(0, 2, 10, endpoint = False) \n",
    "y1 = np.ones(10) \n",
    "  \n",
    "p.plot(x1, y1, '*') \n",
    "y1\n"
   ]
  },
  {
   "cell_type": "code",
   "execution_count": 30,
   "metadata": {},
   "outputs": [
    {
     "name": "stdout",
     "output_type": "stream",
     "text": [
      "[[ 4.23265549e-02  6.51533441e-03 -1.03589196e-01 ...  3.30360673e-03\n",
      "  -3.96640148e-02  3.63332825e-02]\n",
      " [-2.50710435e-02  4.78386966e-02  1.89400413e-01 ... -1.33023671e-02\n",
      "  -1.39273992e-01 -6.62316038e-02]\n",
      " [ 8.70732895e-02 -9.45757782e-05 -1.26446296e-02 ...  1.67172644e-02\n",
      "   3.36523929e-02 -3.44249200e-02]\n",
      " ...\n",
      " [ 6.59439097e-02 -3.75072471e-02  5.81927646e-02 ...  1.83547622e-04\n",
      "  -1.02368016e-01 -2.28262375e-01]\n",
      " [-1.35565374e-01 -1.67030111e-01 -4.39585855e-03 ... -6.04523158e-02\n",
      "  -1.75225347e-01 -8.53605464e-03]\n",
      " [ 7.62147579e-02 -4.17338302e-02 -1.38913984e-02 ...  1.12510328e-01\n",
      "  -1.98039407e-01 -3.61089006e-02]]\n",
      "mean -0.0002553374059215877\n",
      "std dev 0.09964790046225956\n",
      "max 0.3984413957066945\n",
      "min -0.4031653436055588\n",
      "sum > 0 31120\n",
      "sum < 0 31380\n",
      "[[ 2.  4.  6.  8.]\n",
      " [10. 12. 14. 16.]\n",
      " [18. 20. 22. 24.]\n",
      " [26. 28. 30. 32.]]\n"
     ]
    }
   ],
   "source": [
    "n1=np.random.normal(0,0.1,size=(250,250))#creates a 250x250 array with mean 0 and sd 0.1\n",
    "print(n1)\n",
    "print('mean',n1.mean())\n",
    "print('std dev',n1.std())\n",
    "print('max',n1.max())\n",
    "print('min',n1.min())\n",
    "print('sum > 0',(n1>0).sum())\n",
    "print('sum < 0',(n1<0).sum())\n"
   ]
  },
  {
   "cell_type": "code",
   "execution_count": null,
   "metadata": {},
   "outputs": [],
   "source": []
  }
 ],
 "metadata": {
  "kernelspec": {
   "display_name": "featurebranch",
   "language": "python",
   "name": "featurebranch"
  },
  "language_info": {
   "codemirror_mode": {
    "name": "ipython",
    "version": 3
   },
   "file_extension": ".py",
   "mimetype": "text/x-python",
   "name": "python",
   "nbconvert_exporter": "python",
   "pygments_lexer": "ipython3",
   "version": "3.6.8"
  }
 },
 "nbformat": 4,
 "nbformat_minor": 2
}
