{
 "cells": [
  {
   "cell_type": "markdown",
   "metadata": {},
   "source": [
    "### if there are only 6 unique continents, but there are 1000000 rows, even this takes same space we can store continents in a list, can pass index, so that it occupes less space this is available readymade in pandas, called CATEGORY. but if we are going to store country as category, it is going to store same no of strings and small integers. so size increases substantially bur speeds up computations"
   ]
  },
  {
   "cell_type": "code",
   "execution_count": 1,
   "metadata": {},
   "outputs": [],
   "source": [
    "import pandas as pd"
   ]
  },
  {
   "cell_type": "code",
   "execution_count": 2,
   "metadata": {},
   "outputs": [
    {
     "name": "stderr",
     "output_type": "stream",
     "text": [
      "/home/ila/anaconda3/envs/featurebranch/lib/python3.6/site-packages/ipykernel_launcher.py:2: FutureWarning: read_table is deprecated, use read_csv instead.\n",
      "  \n"
     ]
    }
   ],
   "source": [
    "col_names=['sl_no','age','gender','role','id']\n",
    "data=pd.read_table(\"/home/ila/PycharmProjects/pythonworks/artificialintelligence/pandas/files/ex.txt\",sep=\"|\",names=col_names)#not sure ahy header=0 is used\n"
   ]
  },
  {
   "cell_type": "code",
   "execution_count": 3,
   "metadata": {},
   "outputs": [
    {
     "data": {
      "text/plain": [
       "Index(['sl_no', 'age', 'gender', 'role', 'id'], dtype='object')"
      ]
     },
     "execution_count": 3,
     "metadata": {},
     "output_type": "execute_result"
    }
   ],
   "source": [
    "data.columns\n"
   ]
  },
  {
   "cell_type": "code",
   "execution_count": 4,
   "metadata": {},
   "outputs": [
    {
     "data": {
      "text/plain": [
       "<bound method DataFrame.info of      sl_no  age gender           role     id\n",
       "0        1   24      M     technician  85711\n",
       "1        2   53      F          other  94043\n",
       "2        3   23      M         writer  32067\n",
       "3        4   24      M     technician  43537\n",
       "4        5   33      F          other  15213\n",
       "5        6   42      M      executive  98101\n",
       "6        7   57      M  administrator  91344\n",
       "7        8   36      M  administrator  05201\n",
       "8        9   29      M        student  01002\n",
       "9       10   53      M         lawyer  90703\n",
       "10      11   39      F          other  30329\n",
       "11      12   28      F          other  06405\n",
       "12      13   47      M       educator  29206\n",
       "13      14   45      M      scientist  55106\n",
       "14      15   49      F       educator  97301\n",
       "15      16   21      M  entertainment  10309\n",
       "16      17   30      M     programmer  06355\n",
       "17      18   35      F          other  37212\n",
       "18      19   40      M      librarian  02138\n",
       "19      20   42      F      homemaker  95660\n",
       "20      21   26      M         writer  30068\n",
       "21      22   25      M         writer  40206\n",
       "22      23   30      F         artist  48197\n",
       "23      24   21      F         artist  94533\n",
       "24      25   39      M       engineer  55107\n",
       "25      26   49      M       engineer  21044\n",
       "26      27   40      F      librarian  30030\n",
       "27      28   32      M         writer  55369\n",
       "28      29   41      M     programmer  94043\n",
       "29      30    7      M        student  55436\n",
       "..     ...  ...    ...            ...    ...\n",
       "913    914   44      F          other  08105\n",
       "914    915   50      M  entertainment  60614\n",
       "915    916   27      M       engineer  N2L5N\n",
       "916    917   22      F        student  20006\n",
       "917    918   40      M      scientist  70116\n",
       "918    919   25      M          other  14216\n",
       "919    920   30      F         artist  90008\n",
       "920    921   20      F        student  98801\n",
       "921    922   29      F  administrator  21114\n",
       "922    923   21      M        student  E2E3R\n",
       "923    924   29      M          other  11753\n",
       "924    925   18      F       salesman  49036\n",
       "925    926   49      M  entertainment  01701\n",
       "926    927   23      M     programmer  55428\n",
       "927    928   21      M        student  55408\n",
       "928    929   44      M      scientist  53711\n",
       "929    930   28      F      scientist  07310\n",
       "930    931   60      M       educator  33556\n",
       "931    932   58      M       educator  06437\n",
       "932    933   28      M        student  48105\n",
       "933    934   61      M       engineer  22902\n",
       "934    935   42      M         doctor  66221\n",
       "935    936   24      M          other  32789\n",
       "936    937   48      M       educator  98072\n",
       "937    938   38      F     technician  55038\n",
       "938    939   26      F        student  33319\n",
       "939    940   32      M  administrator  02215\n",
       "940    941   20      M        student  97229\n",
       "941    942   48      F      librarian  78209\n",
       "942    943   22      M        student  77841\n",
       "\n",
       "[943 rows x 5 columns]>"
      ]
     },
     "execution_count": 4,
     "metadata": {},
     "output_type": "execute_result"
    }
   ],
   "source": [
    "data.info"
   ]
  },
  {
   "cell_type": "markdown",
   "metadata": {},
   "source": [
    "### at the end shows in + in memory. object type stores string, and not counted"
   ]
  },
  {
   "cell_type": "code",
   "execution_count": 5,
   "metadata": {},
   "outputs": [
    {
     "name": "stdout",
     "output_type": "stream",
     "text": [
      "<class 'pandas.core.frame.DataFrame'>\n",
      "RangeIndex: 943 entries, 0 to 942\n",
      "Data columns (total 5 columns):\n",
      "sl_no     943 non-null int64\n",
      "age       943 non-null int64\n",
      "gender    943 non-null object\n",
      "role      943 non-null object\n",
      "id        943 non-null object\n",
      "dtypes: int64(2), object(3)\n",
      "memory usage: 36.9+ KB\n"
     ]
    }
   ],
   "source": [
    "data.info()"
   ]
  },
  {
   "cell_type": "markdown",
   "metadata": {},
   "source": [
    "#### now original size is displayed"
   ]
  },
  {
   "cell_type": "code",
   "execution_count": 6,
   "metadata": {},
   "outputs": [
    {
     "data": {
      "text/plain": [
       "Index        80\n",
       "sl_no      7544\n",
       "age        7544\n",
       "gender    62238\n",
       "role      61400\n",
       "id        58466\n",
       "dtype: int64"
      ]
     },
     "execution_count": 6,
     "metadata": {},
     "output_type": "execute_result"
    }
   ],
   "source": [
    "data.memory_usage(deep=True)"
   ]
  },
  {
   "cell_type": "code",
   "execution_count": null,
   "metadata": {},
   "outputs": [],
   "source": []
  },
  {
   "cell_type": "code",
   "execution_count": 7,
   "metadata": {},
   "outputs": [
    {
     "data": {
      "text/plain": [
       "197272"
      ]
     },
     "execution_count": 7,
     "metadata": {},
     "output_type": "execute_result"
    }
   ],
   "source": [
    "data.memory_usage(deep=True).sum()"
   ]
  },
  {
   "cell_type": "code",
   "execution_count": 8,
   "metadata": {},
   "outputs": [
    {
     "data": {
      "text/html": [
       "<div>\n",
       "<style scoped>\n",
       "    .dataframe tbody tr th:only-of-type {\n",
       "        vertical-align: middle;\n",
       "    }\n",
       "\n",
       "    .dataframe tbody tr th {\n",
       "        vertical-align: top;\n",
       "    }\n",
       "\n",
       "    .dataframe thead th {\n",
       "        text-align: right;\n",
       "    }\n",
       "</style>\n",
       "<table border=\"1\" class=\"dataframe\">\n",
       "  <thead>\n",
       "    <tr style=\"text-align: right;\">\n",
       "      <th></th>\n",
       "      <th>sl_no</th>\n",
       "      <th>age</th>\n",
       "      <th>gender</th>\n",
       "      <th>role</th>\n",
       "      <th>id</th>\n",
       "    </tr>\n",
       "  </thead>\n",
       "  <tbody>\n",
       "    <tr>\n",
       "      <th>0</th>\n",
       "      <td>1</td>\n",
       "      <td>24</td>\n",
       "      <td>M</td>\n",
       "      <td>technician</td>\n",
       "      <td>85711</td>\n",
       "    </tr>\n",
       "    <tr>\n",
       "      <th>1</th>\n",
       "      <td>2</td>\n",
       "      <td>53</td>\n",
       "      <td>F</td>\n",
       "      <td>other</td>\n",
       "      <td>94043</td>\n",
       "    </tr>\n",
       "    <tr>\n",
       "      <th>2</th>\n",
       "      <td>3</td>\n",
       "      <td>23</td>\n",
       "      <td>M</td>\n",
       "      <td>writer</td>\n",
       "      <td>32067</td>\n",
       "    </tr>\n",
       "    <tr>\n",
       "      <th>3</th>\n",
       "      <td>4</td>\n",
       "      <td>24</td>\n",
       "      <td>M</td>\n",
       "      <td>technician</td>\n",
       "      <td>43537</td>\n",
       "    </tr>\n",
       "    <tr>\n",
       "      <th>4</th>\n",
       "      <td>5</td>\n",
       "      <td>33</td>\n",
       "      <td>F</td>\n",
       "      <td>other</td>\n",
       "      <td>15213</td>\n",
       "    </tr>\n",
       "  </tbody>\n",
       "</table>\n",
       "</div>"
      ],
      "text/plain": [
       "   sl_no  age gender        role     id\n",
       "0      1   24      M  technician  85711\n",
       "1      2   53      F       other  94043\n",
       "2      3   23      M      writer  32067\n",
       "3      4   24      M  technician  43537\n",
       "4      5   33      F       other  15213"
      ]
     },
     "execution_count": 8,
     "metadata": {},
     "output_type": "execute_result"
    }
   ],
   "source": [
    "data.head()"
   ]
  },
  {
   "cell_type": "markdown",
   "metadata": {},
   "source": [
    "#### size of roles is reduxed from 61400 to 2952"
   ]
  },
  {
   "cell_type": "code",
   "execution_count": 9,
   "metadata": {},
   "outputs": [
    {
     "data": {
      "text/plain": [
       "sl_no        int64\n",
       "age          int64\n",
       "gender      object\n",
       "role      category\n",
       "id          object\n",
       "dtype: object"
      ]
     },
     "execution_count": 9,
     "metadata": {},
     "output_type": "execute_result"
    }
   ],
   "source": [
    "data['role']=data.role.astype('category')\n",
    "data.dtypes"
   ]
  },
  {
   "cell_type": "code",
   "execution_count": 10,
   "metadata": {},
   "outputs": [
    {
     "data": {
      "text/plain": [
       "Index        80\n",
       "sl_no      7544\n",
       "age        7544\n",
       "gender    62238\n",
       "role       2952\n",
       "id        58466\n",
       "dtype: int64"
      ]
     },
     "execution_count": 10,
     "metadata": {},
     "output_type": "execute_result"
    }
   ],
   "source": [
    "data.memory_usage(deep=True)"
   ]
  },
  {
   "cell_type": "markdown",
   "metadata": {},
   "source": [
    "#### if we wanna c the index"
   ]
  },
  {
   "cell_type": "code",
   "execution_count": 11,
   "metadata": {},
   "outputs": [
    {
     "data": {
      "text/plain": [
       "0      19\n",
       "1      13\n",
       "2      20\n",
       "3      19\n",
       "4      13\n",
       "5       6\n",
       "6       0\n",
       "7       0\n",
       "8      18\n",
       "9       9\n",
       "10     13\n",
       "11     13\n",
       "12      3\n",
       "13     17\n",
       "14      3\n",
       "15      5\n",
       "16     14\n",
       "17     13\n",
       "18     10\n",
       "19      8\n",
       "20     20\n",
       "21     20\n",
       "22      1\n",
       "23      1\n",
       "24      4\n",
       "25      4\n",
       "26     10\n",
       "27     20\n",
       "28     14\n",
       "29     18\n",
       "       ..\n",
       "913    13\n",
       "914     5\n",
       "915     4\n",
       "916    18\n",
       "917    17\n",
       "918    13\n",
       "919     1\n",
       "920    18\n",
       "921     0\n",
       "922    18\n",
       "923    13\n",
       "924    16\n",
       "925     5\n",
       "926    14\n",
       "927    18\n",
       "928    17\n",
       "929    17\n",
       "930     3\n",
       "931     3\n",
       "932    18\n",
       "933     4\n",
       "934     2\n",
       "935    13\n",
       "936     3\n",
       "937    19\n",
       "938    18\n",
       "939     0\n",
       "940    18\n",
       "941    10\n",
       "942    18\n",
       "Length: 943, dtype: int8"
      ]
     },
     "execution_count": 11,
     "metadata": {},
     "output_type": "execute_result"
    }
   ],
   "source": [
    "data.role.cat.codes"
   ]
  },
  {
   "cell_type": "code",
   "execution_count": 12,
   "metadata": {},
   "outputs": [
    {
     "data": {
      "text/plain": [
       "Index(['administrator', 'artist', 'doctor', 'educator', 'engineer',\n",
       "       'entertainment', 'executive', 'healthcare', 'homemaker', 'lawyer',\n",
       "       'librarian', 'marketing', 'none', 'other', 'programmer', 'retired',\n",
       "       'salesman', 'scientist', 'student', 'technician', 'writer'],\n",
       "      dtype='object')"
      ]
     },
     "execution_count": 12,
     "metadata": {},
     "output_type": "execute_result"
    }
   ],
   "source": [
    "data.role.cat.categories"
   ]
  },
  {
   "cell_type": "code",
   "execution_count": 14,
   "metadata": {},
   "outputs": [
    {
     "data": {
      "text/html": [
       "<div>\n",
       "<style scoped>\n",
       "    .dataframe tbody tr th:only-of-type {\n",
       "        vertical-align: middle;\n",
       "    }\n",
       "\n",
       "    .dataframe tbody tr th {\n",
       "        vertical-align: top;\n",
       "    }\n",
       "\n",
       "    .dataframe thead th {\n",
       "        text-align: right;\n",
       "    }\n",
       "</style>\n",
       "<table border=\"1\" class=\"dataframe\">\n",
       "  <thead>\n",
       "    <tr style=\"text-align: right;\">\n",
       "      <th></th>\n",
       "      <th>ID</th>\n",
       "      <th>quality</th>\n",
       "    </tr>\n",
       "  </thead>\n",
       "  <tbody>\n",
       "    <tr>\n",
       "      <th>0</th>\n",
       "      <td>100</td>\n",
       "      <td>good</td>\n",
       "    </tr>\n",
       "    <tr>\n",
       "      <th>1</th>\n",
       "      <td>101</td>\n",
       "      <td>very good</td>\n",
       "    </tr>\n",
       "    <tr>\n",
       "      <th>2</th>\n",
       "      <td>102</td>\n",
       "      <td>good</td>\n",
       "    </tr>\n",
       "    <tr>\n",
       "      <th>3</th>\n",
       "      <td>103</td>\n",
       "      <td>excellent</td>\n",
       "    </tr>\n",
       "  </tbody>\n",
       "</table>\n",
       "</div>"
      ],
      "text/plain": [
       "    ID    quality\n",
       "0  100       good\n",
       "1  101  very good\n",
       "2  102       good\n",
       "3  103  excellent"
      ]
     },
     "execution_count": 14,
     "metadata": {},
     "output_type": "execute_result"
    }
   ],
   "source": [
    "cache=pd.DataFrame({'ID':[100,101,102,103], 'quality': ['good','very good','good','excellent']})\n",
    "cache"
   ]
  },
  {
   "cell_type": "code",
   "execution_count": 15,
   "metadata": {},
   "outputs": [
    {
     "data": {
      "text/plain": [
       "pandas.core.frame.DataFrame"
      ]
     },
     "execution_count": 15,
     "metadata": {},
     "output_type": "execute_result"
    }
   ],
   "source": [
    "type(cache)"
   ]
  },
  {
   "cell_type": "code",
   "execution_count": 17,
   "metadata": {},
   "outputs": [
    {
     "data": {
      "text/plain": [
       "pandas.core.series.Series"
      ]
     },
     "execution_count": 17,
     "metadata": {},
     "output_type": "execute_result"
    }
   ],
   "source": [
    "type(cache.ID)"
   ]
  },
  {
   "cell_type": "code",
   "execution_count": 18,
   "metadata": {},
   "outputs": [
    {
     "data": {
      "text/html": [
       "<div>\n",
       "<style scoped>\n",
       "    .dataframe tbody tr th:only-of-type {\n",
       "        vertical-align: middle;\n",
       "    }\n",
       "\n",
       "    .dataframe tbody tr th {\n",
       "        vertical-align: top;\n",
       "    }\n",
       "\n",
       "    .dataframe thead th {\n",
       "        text-align: right;\n",
       "    }\n",
       "</style>\n",
       "<table border=\"1\" class=\"dataframe\">\n",
       "  <thead>\n",
       "    <tr style=\"text-align: right;\">\n",
       "      <th></th>\n",
       "      <th>ID</th>\n",
       "      <th>quality</th>\n",
       "    </tr>\n",
       "  </thead>\n",
       "  <tbody>\n",
       "    <tr>\n",
       "      <th>3</th>\n",
       "      <td>103</td>\n",
       "      <td>excellent</td>\n",
       "    </tr>\n",
       "    <tr>\n",
       "      <th>0</th>\n",
       "      <td>100</td>\n",
       "      <td>good</td>\n",
       "    </tr>\n",
       "    <tr>\n",
       "      <th>2</th>\n",
       "      <td>102</td>\n",
       "      <td>good</td>\n",
       "    </tr>\n",
       "    <tr>\n",
       "      <th>1</th>\n",
       "      <td>101</td>\n",
       "      <td>very good</td>\n",
       "    </tr>\n",
       "  </tbody>\n",
       "</table>\n",
       "</div>"
      ],
      "text/plain": [
       "    ID    quality\n",
       "3  103  excellent\n",
       "0  100       good\n",
       "2  102       good\n",
       "1  101  very good"
      ]
     },
     "execution_count": 18,
     "metadata": {},
     "output_type": "execute_result"
    }
   ],
   "source": [
    "cache.sort_values('quality')"
   ]
  },
  {
   "cell_type": "code",
   "execution_count": null,
   "metadata": {},
   "outputs": [],
   "source": []
  }
 ],
 "metadata": {
  "kernelspec": {
   "display_name": "featurebranch",
   "language": "python",
   "name": "featurebranch"
  },
  "language_info": {
   "codemirror_mode": {
    "name": "ipython",
    "version": 3
   },
   "file_extension": ".py",
   "mimetype": "text/x-python",
   "name": "python",
   "nbconvert_exporter": "python",
   "pygments_lexer": "ipython3",
   "version": "3.6.8"
  }
 },
 "nbformat": 4,
 "nbformat_minor": 2
}
