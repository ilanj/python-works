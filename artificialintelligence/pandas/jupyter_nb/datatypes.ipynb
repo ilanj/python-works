{
 "cells": [
  {
   "cell_type": "code",
   "execution_count": 4,
   "metadata": {},
   "outputs": [
    {
     "name": "stderr",
     "output_type": "stream",
     "text": [
      "/home/ila/anaconda3/envs/featurebranch/lib/python3.6/site-packages/ipykernel_launcher.py:3: FutureWarning: read_table is deprecated, use read_csv instead.\n",
      "  This is separate from the ipykernel package so we can avoid doing imports until\n"
     ]
    },
    {
     "data": {
      "text/plain": [
       "sl_no      int64\n",
       "age        int64\n",
       "gender    object\n",
       "role      object\n",
       "id        object\n",
       "dtype: object"
      ]
     },
     "execution_count": 4,
     "metadata": {},
     "output_type": "execute_result"
    }
   ],
   "source": [
    "import pandas as pd\n",
    "col_names=['sl_no','age','gender','role','id']\n",
    "data=pd.read_table(\"/home/ila/PycharmProjects/pythonworks/artificialintelligence/pandas/files/ex.txt\",sep=\"|\",names=col_names)\n",
    "data.dtypes"
   ]
  },
  {
   "cell_type": "code",
   "execution_count": 6,
   "metadata": {
    "scrolled": true
   },
   "outputs": [
    {
     "data": {
      "text/html": [
       "<div>\n",
       "<style scoped>\n",
       "    .dataframe tbody tr th:only-of-type {\n",
       "        vertical-align: middle;\n",
       "    }\n",
       "\n",
       "    .dataframe tbody tr th {\n",
       "        vertical-align: top;\n",
       "    }\n",
       "\n",
       "    .dataframe thead th {\n",
       "        text-align: right;\n",
       "    }\n",
       "</style>\n",
       "<table border=\"1\" class=\"dataframe\">\n",
       "  <thead>\n",
       "    <tr style=\"text-align: right;\">\n",
       "      <th></th>\n",
       "      <th>sl_no</th>\n",
       "      <th>age</th>\n",
       "      <th>gender</th>\n",
       "      <th>role</th>\n",
       "      <th>id</th>\n",
       "    </tr>\n",
       "  </thead>\n",
       "  <tbody>\n",
       "    <tr>\n",
       "      <th>0</th>\n",
       "      <td>1</td>\n",
       "      <td>24</td>\n",
       "      <td>M</td>\n",
       "      <td>technician</td>\n",
       "      <td>85711</td>\n",
       "    </tr>\n",
       "    <tr>\n",
       "      <th>1</th>\n",
       "      <td>2</td>\n",
       "      <td>53</td>\n",
       "      <td>F</td>\n",
       "      <td>other</td>\n",
       "      <td>94043</td>\n",
       "    </tr>\n",
       "    <tr>\n",
       "      <th>2</th>\n",
       "      <td>3</td>\n",
       "      <td>23</td>\n",
       "      <td>M</td>\n",
       "      <td>writer</td>\n",
       "      <td>32067</td>\n",
       "    </tr>\n",
       "    <tr>\n",
       "      <th>3</th>\n",
       "      <td>4</td>\n",
       "      <td>24</td>\n",
       "      <td>M</td>\n",
       "      <td>technician</td>\n",
       "      <td>43537</td>\n",
       "    </tr>\n",
       "    <tr>\n",
       "      <th>4</th>\n",
       "      <td>5</td>\n",
       "      <td>33</td>\n",
       "      <td>F</td>\n",
       "      <td>other</td>\n",
       "      <td>15213</td>\n",
       "    </tr>\n",
       "  </tbody>\n",
       "</table>\n",
       "</div>"
      ],
      "text/plain": [
       "   sl_no  age gender        role     id\n",
       "0      1   24      M  technician  85711\n",
       "1      2   53      F       other  94043\n",
       "2      3   23      M      writer  32067\n",
       "3      4   24      M  technician  43537\n",
       "4      5   33      F       other  15213"
      ]
     },
     "execution_count": 6,
     "metadata": {},
     "output_type": "execute_result"
    }
   ],
   "source": [
    "data.head()"
   ]
  },
  {
   "cell_type": "code",
   "execution_count": 8,
   "metadata": {},
   "outputs": [
    {
     "data": {
      "text/html": [
       "<div>\n",
       "<style scoped>\n",
       "    .dataframe tbody tr th:only-of-type {\n",
       "        vertical-align: middle;\n",
       "    }\n",
       "\n",
       "    .dataframe tbody tr th {\n",
       "        vertical-align: top;\n",
       "    }\n",
       "\n",
       "    .dataframe thead th {\n",
       "        text-align: right;\n",
       "    }\n",
       "</style>\n",
       "<table border=\"1\" class=\"dataframe\">\n",
       "  <thead>\n",
       "    <tr style=\"text-align: right;\">\n",
       "      <th></th>\n",
       "      <th>sl_no</th>\n",
       "      <th>age</th>\n",
       "      <th>gender</th>\n",
       "      <th>role</th>\n",
       "      <th>id</th>\n",
       "    </tr>\n",
       "  </thead>\n",
       "  <tbody>\n",
       "    <tr>\n",
       "      <th>0</th>\n",
       "      <td>1</td>\n",
       "      <td>24.0</td>\n",
       "      <td>M</td>\n",
       "      <td>technician</td>\n",
       "      <td>85711</td>\n",
       "    </tr>\n",
       "    <tr>\n",
       "      <th>1</th>\n",
       "      <td>2</td>\n",
       "      <td>53.0</td>\n",
       "      <td>F</td>\n",
       "      <td>other</td>\n",
       "      <td>94043</td>\n",
       "    </tr>\n",
       "    <tr>\n",
       "      <th>2</th>\n",
       "      <td>3</td>\n",
       "      <td>23.0</td>\n",
       "      <td>M</td>\n",
       "      <td>writer</td>\n",
       "      <td>32067</td>\n",
       "    </tr>\n",
       "    <tr>\n",
       "      <th>3</th>\n",
       "      <td>4</td>\n",
       "      <td>24.0</td>\n",
       "      <td>M</td>\n",
       "      <td>technician</td>\n",
       "      <td>43537</td>\n",
       "    </tr>\n",
       "    <tr>\n",
       "      <th>4</th>\n",
       "      <td>5</td>\n",
       "      <td>33.0</td>\n",
       "      <td>F</td>\n",
       "      <td>other</td>\n",
       "      <td>15213</td>\n",
       "    </tr>\n",
       "  </tbody>\n",
       "</table>\n",
       "</div>"
      ],
      "text/plain": [
       "   sl_no   age gender        role     id\n",
       "0      1  24.0      M  technician  85711\n",
       "1      2  53.0      F       other  94043\n",
       "2      3  23.0      M      writer  32067\n",
       "3      4  24.0      M  technician  43537\n",
       "4      5  33.0      F       other  15213"
      ]
     },
     "execution_count": 8,
     "metadata": {},
     "output_type": "execute_result"
    }
   ],
   "source": [
    "data.age= data.age.astype(float)\n",
    "data.head()"
   ]
  },
  {
   "cell_type": "markdown",
   "metadata": {},
   "source": [
    "#### Data type can be specified while loading data"
   ]
  },
  {
   "cell_type": "markdown",
   "metadata": {},
   "source": [
    "#### id is object(string) so replacing any non digit with 3 and converting to float"
   ]
  },
  {
   "cell_type": "code",
   "execution_count": 41,
   "metadata": {},
   "outputs": [
    {
     "name": "stderr",
     "output_type": "stream",
     "text": [
      "/home/ila/anaconda3/envs/featurebranch/lib/python3.6/site-packages/ipykernel_launcher.py:1: FutureWarning: read_table is deprecated, use read_csv instead.\n",
      "  \"\"\"Entry point for launching an IPython kernel.\n"
     ]
    },
    {
     "data": {
      "text/html": [
       "<div>\n",
       "<style scoped>\n",
       "    .dataframe tbody tr th:only-of-type {\n",
       "        vertical-align: middle;\n",
       "    }\n",
       "\n",
       "    .dataframe tbody tr th {\n",
       "        vertical-align: top;\n",
       "    }\n",
       "\n",
       "    .dataframe thead th {\n",
       "        text-align: right;\n",
       "    }\n",
       "</style>\n",
       "<table border=\"1\" class=\"dataframe\">\n",
       "  <thead>\n",
       "    <tr style=\"text-align: right;\">\n",
       "      <th></th>\n",
       "      <th>sl_no</th>\n",
       "      <th>age</th>\n",
       "      <th>gender</th>\n",
       "      <th>role</th>\n",
       "      <th>id</th>\n",
       "    </tr>\n",
       "  </thead>\n",
       "  <tbody>\n",
       "    <tr>\n",
       "      <th>0</th>\n",
       "      <td>1.0</td>\n",
       "      <td>24.0</td>\n",
       "      <td>M</td>\n",
       "      <td>technician</td>\n",
       "      <td>85711</td>\n",
       "    </tr>\n",
       "    <tr>\n",
       "      <th>1</th>\n",
       "      <td>2.0</td>\n",
       "      <td>53.0</td>\n",
       "      <td>F</td>\n",
       "      <td>other</td>\n",
       "      <td>94043</td>\n",
       "    </tr>\n",
       "    <tr>\n",
       "      <th>2</th>\n",
       "      <td>3.0</td>\n",
       "      <td>23.0</td>\n",
       "      <td>M</td>\n",
       "      <td>writer</td>\n",
       "      <td>32067</td>\n",
       "    </tr>\n",
       "    <tr>\n",
       "      <th>3</th>\n",
       "      <td>4.0</td>\n",
       "      <td>24.0</td>\n",
       "      <td>M</td>\n",
       "      <td>technician</td>\n",
       "      <td>43537</td>\n",
       "    </tr>\n",
       "    <tr>\n",
       "      <th>4</th>\n",
       "      <td>5.0</td>\n",
       "      <td>33.0</td>\n",
       "      <td>F</td>\n",
       "      <td>other</td>\n",
       "      <td>15213</td>\n",
       "    </tr>\n",
       "  </tbody>\n",
       "</table>\n",
       "</div>"
      ],
      "text/plain": [
       "   sl_no   age gender        role     id\n",
       "0    1.0  24.0      M  technician  85711\n",
       "1    2.0  53.0      F       other  94043\n",
       "2    3.0  23.0      M      writer  32067\n",
       "3    4.0  24.0      M  technician  43537\n",
       "4    5.0  33.0      F       other  15213"
      ]
     },
     "execution_count": 41,
     "metadata": {},
     "output_type": "execute_result"
    }
   ],
   "source": [
    "data1= pd.read_table(\"/home/ila/PycharmProjects/pythonworks/artificialintelligence/pandas/files/ex.txt\", sep='|', names= col_names, dtype={'age':float, 'sl_no':float})\n",
    "data1.head()"
   ]
  },
  {
   "cell_type": "code",
   "execution_count": 42,
   "metadata": {},
   "outputs": [
    {
     "data": {
      "text/plain": [
       "0    33333\n",
       "1    33333\n",
       "2    33333\n",
       "3    33333\n",
       "4    33333\n",
       "Name: id, dtype: object"
      ]
     },
     "execution_count": 42,
     "metadata": {},
     "output_type": "execute_result"
    }
   ],
   "source": [
    "# data.id= data.id.str.replace('\\D','3')\n",
    "data.id.head()"
   ]
  },
  {
   "cell_type": "code",
   "execution_count": 44,
   "metadata": {},
   "outputs": [
    {
     "data": {
      "text/plain": [
       "sl_no       int64\n",
       "age       float64\n",
       "gender     object\n",
       "role       object\n",
       "id        float64\n",
       "dtype: object"
      ]
     },
     "execution_count": 44,
     "metadata": {},
     "output_type": "execute_result"
    }
   ],
   "source": [
    "data.id= data.id.astype(float)\n",
    "data.dtypes"
   ]
  },
  {
   "cell_type": "code",
   "execution_count": 46,
   "metadata": {},
   "outputs": [
    {
     "data": {
      "text/plain": [
       "<bound method NDFrame.describe of      sl_no   age gender           role       id\n",
       "0        1  24.0      M     technician  33333.0\n",
       "1        2  53.0      F          other  33333.0\n",
       "2        3  23.0      M         writer  33333.0\n",
       "3        4  24.0      M     technician  33333.0\n",
       "4        5  33.0      F          other  33333.0\n",
       "5        6  42.0      M      executive  33333.0\n",
       "6        7  57.0      M  administrator  33333.0\n",
       "7        8  36.0      M  administrator  33333.0\n",
       "8        9  29.0      M        student  33333.0\n",
       "9       10  53.0      M         lawyer  33333.0\n",
       "10      11  39.0      F          other  33333.0\n",
       "11      12  28.0      F          other  33333.0\n",
       "12      13  47.0      M       educator  33333.0\n",
       "13      14  45.0      M      scientist  33333.0\n",
       "14      15  49.0      F       educator  33333.0\n",
       "15      16  21.0      M  entertainment  33333.0\n",
       "16      17  30.0      M     programmer  33333.0\n",
       "17      18  35.0      F          other  33333.0\n",
       "18      19  40.0      M      librarian  33333.0\n",
       "19      20  42.0      F      homemaker  33333.0\n",
       "20      21  26.0      M         writer  33333.0\n",
       "21      22  25.0      M         writer  33333.0\n",
       "22      23  30.0      F         artist  33333.0\n",
       "23      24  21.0      F         artist  33333.0\n",
       "24      25  39.0      M       engineer  33333.0\n",
       "25      26  49.0      M       engineer  33333.0\n",
       "26      27  40.0      F      librarian  33333.0\n",
       "27      28  32.0      M         writer  33333.0\n",
       "28      29  41.0      M     programmer  33333.0\n",
       "29      30   7.0      M        student  33333.0\n",
       "..     ...   ...    ...            ...      ...\n",
       "913    914  44.0      F          other  33333.0\n",
       "914    915  50.0      M  entertainment  33333.0\n",
       "915    916  27.0      M       engineer  33333.0\n",
       "916    917  22.0      F        student  33333.0\n",
       "917    918  40.0      M      scientist  33333.0\n",
       "918    919  25.0      M          other  33333.0\n",
       "919    920  30.0      F         artist  33333.0\n",
       "920    921  20.0      F        student  33333.0\n",
       "921    922  29.0      F  administrator  33333.0\n",
       "922    923  21.0      M        student  33333.0\n",
       "923    924  29.0      M          other  33333.0\n",
       "924    925  18.0      F       salesman  33333.0\n",
       "925    926  49.0      M  entertainment  33333.0\n",
       "926    927  23.0      M     programmer  33333.0\n",
       "927    928  21.0      M        student  33333.0\n",
       "928    929  44.0      M      scientist  33333.0\n",
       "929    930  28.0      F      scientist  33333.0\n",
       "930    931  60.0      M       educator  33333.0\n",
       "931    932  58.0      M       educator  33333.0\n",
       "932    933  28.0      M        student  33333.0\n",
       "933    934  61.0      M       engineer  33333.0\n",
       "934    935  42.0      M         doctor  33333.0\n",
       "935    936  24.0      M          other  33333.0\n",
       "936    937  48.0      M       educator  33333.0\n",
       "937    938  38.0      F     technician  33333.0\n",
       "938    939  26.0      F        student  33333.0\n",
       "939    940  32.0      M  administrator  33333.0\n",
       "940    941  20.0      M        student  33333.0\n",
       "941    942  48.0      F      librarian  33333.0\n",
       "942    943  22.0      M        student  33333.0\n",
       "\n",
       "[943 rows x 5 columns]>"
      ]
     },
     "execution_count": 46,
     "metadata": {},
     "output_type": "execute_result"
    }
   ],
   "source": [
    "data.describe"
   ]
  },
  {
   "cell_type": "code",
   "execution_count": null,
   "metadata": {},
   "outputs": [],
   "source": []
  }
 ],
 "metadata": {
  "kernelspec": {
   "display_name": "featurebranch",
   "language": "python",
   "name": "featurebranch"
  },
  "language_info": {
   "codemirror_mode": {
    "name": "ipython",
    "version": 3
   },
   "file_extension": ".py",
   "mimetype": "text/x-python",
   "name": "python",
   "nbconvert_exporter": "python",
   "pygments_lexer": "ipython3",
   "version": "3.6.8"
  }
 },
 "nbformat": 4,
 "nbformat_minor": 2
}
