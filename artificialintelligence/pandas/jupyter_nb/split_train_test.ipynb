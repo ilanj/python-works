{
 "cells": [
  {
   "cell_type": "code",
   "execution_count": 1,
   "metadata": {},
   "outputs": [],
   "source": [
    "import pandas as pd\n",
    "data=pd.read_csv(\"/home/ila/PycharmProjects/pythonworks/artificialintelligence/pandas/files/kaggletrain.txt\")\n",
    "train=data.sample(frac=0.75,random_state=99)\n",
    "test=data.loc[~data.index.isin(train.index),:]\n"
   ]
  },
  {
   "cell_type": "code",
   "execution_count": 3,
   "metadata": {},
   "outputs": [
    {
     "data": {
      "text/plain": [
       "PassengerId    668\n",
       "Survived       668\n",
       "Pclass         668\n",
       "Name           668\n",
       "Sex            668\n",
       "Age            540\n",
       "SibSp          668\n",
       "Parch          668\n",
       "Ticket         668\n",
       "Fare           668\n",
       "Cabin          152\n",
       "Embarked       666\n",
       "dtype: int64"
      ]
     },
     "execution_count": 3,
     "metadata": {},
     "output_type": "execute_result"
    }
   ],
   "source": [
    "train.count()"
   ]
  },
  {
   "cell_type": "code",
   "execution_count": 4,
   "metadata": {},
   "outputs": [
    {
     "data": {
      "text/plain": [
       "PassengerId    223\n",
       "Survived       223\n",
       "Pclass         223\n",
       "Name           223\n",
       "Sex            223\n",
       "Age            174\n",
       "SibSp          223\n",
       "Parch          223\n",
       "Ticket         223\n",
       "Fare           223\n",
       "Cabin           52\n",
       "Embarked       223\n",
       "dtype: int64"
      ]
     },
     "execution_count": 4,
     "metadata": {},
     "output_type": "execute_result"
    }
   ],
   "source": [
    "test.count()"
   ]
  },
  {
   "cell_type": "code",
   "execution_count": null,
   "metadata": {},
   "outputs": [],
   "source": []
  }
 ],
 "metadata": {
  "kernelspec": {
   "display_name": "featurebranch",
   "language": "python",
   "name": "featurebranch"
  },
  "language_info": {
   "codemirror_mode": {
    "name": "ipython",
    "version": 3
   },
   "file_extension": ".py",
   "mimetype": "text/x-python",
   "name": "python",
   "nbconvert_exporter": "python",
   "pygments_lexer": "ipython3",
   "version": "3.6.8"
  }
 },
 "nbformat": 4,
 "nbformat_minor": 2
}
